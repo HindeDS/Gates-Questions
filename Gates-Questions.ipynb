{
 "cells": [
  {
   "cell_type": "code",
   "execution_count": 2,
   "id": "4ff30669-f66f-4655-ae45-aa20f60e14d3",
   "metadata": {},
   "outputs": [
    {
     "name": "stderr",
     "output_type": "stream",
     "text": [
      "ibmqfactory.load_account:WARNING:2022-04-10 06:08:10,222: Credentials are already in use. The existing account in the session will be replaced.\n"
     ]
    }
   ],
   "source": [
    "import numpy as np\n",
    "\n",
    "# Importing standard Qiskit libraries\n",
    "from qiskit import QuantumCircuit, transpile, Aer, IBMQ\n",
    "from qiskit.tools.jupyter import *\n",
    "from qiskit.visualization import *\n",
    "from ibm_quantum_widgets import *\n",
    "from qiskit.providers.aer import QasmSimulator\n",
    "\n",
    "# Loading your IBM Quantum account(s)\n",
    "provider = IBMQ.load_account()"
   ]
  },
  {
   "cell_type": "code",
   "execution_count": null,
   "id": "e774430d-e338-4f2d-80d0-35232d3f4cc4",
   "metadata": {},
   "outputs": [],
   "source": [
    "# import random \n",
    "from qiskit import*\n",
    "#choose the number of qubits\n",
    "m = int(input(\"Enter the number of qubits:- \"))\n",
    "#create the circuit\n",
    "qc=QuantumCircuit(m)\n",
    "#Apply X gate to last qubit\n",
    "qc.x(m-1)\n",
    "backend1 = Aer.get_backend(\"statevector_simulator\")\n",
    "result1 = execute(qc, backend=backend1, shots=1).result()\n",
    "counts1 = result1.get_counts(qc)\n",
    "#First question\n",
    "p1 = input(\"what is the outcome after applying x gate to last qubit?:- \")\n",
    "#First answer\n",
    "for outcome1 in counts1:\n",
    "    if (p1==outcome1):\n",
    "        print(\"correct answer\")\n",
    "    else:\n",
    "        print(\"uncorrect answer,the correct answer is :\",outcome1)\n",
    "#Apply X gate to first qubit   \n",
    "qc.x(m-m)\n",
    "backend2 = Aer.get_backend(\"statevector_simulator\")\n",
    "result2 = execute(qc, backend=backend2, shots=1).result()\n",
    "counts2 = result2.get_counts(qc)\n",
    "#Second question\n",
    "p2 = input(\"what is the outcome after applying x gate to first qubit qubit?:- \")\n",
    "#Second Answer\n",
    "for outcome2 in counts2:\n",
    "    if (p2==outcome2):\n",
    "        print(\"correct answer\")\n",
    "    else:\n",
    "        print(\"uncorrect answer,the correct answer is :\",outcome2)\n",
    "#Apply Y gate to last qubit\n",
    "qc.y(m-1)\n",
    "backend3 = Aer.get_backend(\"statevector_simulator\")\n",
    "result3 = execute(qc, backend=backend3, shots=1).result()\n",
    "counts3 = result3.get_counts(qc)\n",
    "#Third Question\n",
    "p3 = input(\"what is the outcome after applying Y gate to last qubit qubit?:- \")\n",
    "#Third Answer\n",
    "for outcome3 in counts3:\n",
    "    if (p3==outcome3):\n",
    "        print(\"correct answer\")\n",
    "    else:\n",
    "        print(\"uncorrect answer,the correct answer is :\",outcome3)\n",
    "#Apply Y gate to first qubit\n",
    "qc.y(m-m)\n",
    "backend4 = Aer.get_backend(\"statevector_simulator\")\n",
    "result4 = execute(qc, backend=backend4, shots=1).result()\n",
    "counts4 = result4.get_counts(qc)\n",
    "#Foorth Question\n",
    "p4 = input(\"what is the outcome after applying Y gate to first qubit?:- \")\n",
    "#Foorth Answer\n",
    "for outcome4 in counts4:\n",
    "    if (p4==outcome4):\n",
    "        print(\"correct answer\")\n",
    "    else:\n",
    "        print(\"uncorrect answer,the correct answer is :\",outcome4)\n",
    "#Apply H gate to first gate\n",
    "qc.h(m-m)\n",
    "backend5 = Aer.get_backend(\"statevector_simulator\")\n",
    "result5 = execute(qc, backend=backend5, shots=1).result()\n",
    "counts5 = result5.get_counts(qc)\n",
    "#Fith Question\n",
    "p5 = input(\"what is the first state after applying h gate to first qubit?:- \")\n",
    "#sixth Question\n",
    "p6 = input(\"what is the second state after applying h gate to first qubit?:- \")\n",
    "#Answers for fifth and sixth questions\n",
    "for outcome5 in counts5:\n",
    "    if (p5==outcome5):\n",
    "        print(\"correct answer for the first state\")\n",
    "        \n",
    "    elif (p6==outcome5):\n",
    "        print(\"correct answer for the second state\")\n",
    "    else:\n",
    "        print(\"uncorrect answer,the correct answer is :\",outcome5)"
   ]
  }
 ],
 "metadata": {
  "kernelspec": {
   "display_name": "Qiskit v0.35.0 (ipykernel)",
   "language": "python",
   "name": "python3"
  },
  "language_info": {
   "codemirror_mode": {
    "name": "ipython",
    "version": 3
   },
   "file_extension": ".py",
   "mimetype": "text/x-python",
   "name": "python",
   "nbconvert_exporter": "python",
   "pygments_lexer": "ipython3",
   "version": "3.8.13"
  },
  "widgets": {
   "application/vnd.jupyter.widget-state+json": {
    "state": {
     "10a1ec17556a4f7d9e10eb97c73473d2": {
      "model_module": "@jupyter-widgets/base",
      "model_module_version": "1.2.0",
      "model_name": "LayoutModel",
      "state": {}
     },
     "1523353c89be4087801282d80da634b3": {
      "model_module": "@jupyter-widgets/base",
      "model_module_version": "1.2.0",
      "model_name": "LayoutModel",
      "state": {
       "width": "95px"
      }
     },
     "21f6fef9f69842a1a699705f62a8b35b": {
      "model_module": "@jupyter-widgets/controls",
      "model_module_version": "1.5.0",
      "model_name": "HTMLModel",
      "state": {
       "layout": "IPY_MODEL_e586ee6d1f494d99a1382315f204bcec",
       "style": "IPY_MODEL_cb5960e9ac314245aa2d8f9de9d0ad56",
       "value": "<h5>Queue</h5>"
      }
     },
     "4045d4dc1b7f4e2486eef972059aea4c": {
      "model_module": "@jupyter-widgets/controls",
      "model_module_version": "1.5.0",
      "model_name": "HTMLModel",
      "state": {
       "layout": "IPY_MODEL_85c750dee7b14bc3a8edd9362a4a4969",
       "style": "IPY_MODEL_4ea7e8291b0045ef9a2a8f81d13909aa",
       "value": "<p style='font-family: IBM Plex Sans, Arial, Helvetica, sans-serif; font-size: 20px; font-weight: medium;'>Circuit Properties</p>"
      }
     },
     "4ea7e8291b0045ef9a2a8f81d13909aa": {
      "model_module": "@jupyter-widgets/controls",
      "model_module_version": "1.5.0",
      "model_name": "DescriptionStyleModel",
      "state": {
       "description_width": ""
      }
     },
     "51edae0c7a094dba89e3332b0875f4a8": {
      "model_module": "@jupyter-widgets/base",
      "model_module_version": "1.2.0",
      "model_name": "LayoutModel",
      "state": {
       "width": "190px"
      }
     },
     "57f5e85786cc4205a4fbc07d1ad40da0": {
      "model_module": "@jupyter-widgets/controls",
      "model_module_version": "1.5.0",
      "model_name": "HBoxModel",
      "state": {
       "children": [
        "IPY_MODEL_66db7504e70c4088a6a361de42cdc3fa",
        "IPY_MODEL_ac6ecb47be0a4ef58621cb0669919e6d",
        "IPY_MODEL_a2929f908d6b440d839230697dafbd24",
        "IPY_MODEL_21f6fef9f69842a1a699705f62a8b35b",
        "IPY_MODEL_c6eb4fd15ed443ac9fb5ab1df5d66eda"
       ],
       "layout": "IPY_MODEL_f99266f2c57e467aa9ea3bb59ff493d0"
      }
     },
     "66db7504e70c4088a6a361de42cdc3fa": {
      "model_module": "@jupyter-widgets/controls",
      "model_module_version": "1.5.0",
      "model_name": "HTMLModel",
      "state": {
       "layout": "IPY_MODEL_51edae0c7a094dba89e3332b0875f4a8",
       "style": "IPY_MODEL_b3128b48b45943c98f0105a379613e0d",
       "value": "<h5>Job ID</h5>"
      }
     },
     "67f202ea759e4d9e9013a5773ece924f": {
      "model_module": "@jupyter-widgets/base",
      "model_module_version": "1.2.0",
      "model_name": "LayoutModel",
      "state": {
       "grid_template_areas": "\n                                       \". . . . right \"\n                                        ",
       "grid_template_columns": "20% 20% 20% 20% 20%",
       "width": "100%"
      }
     },
     "85c750dee7b14bc3a8edd9362a4a4969": {
      "model_module": "@jupyter-widgets/base",
      "model_module_version": "1.2.0",
      "model_name": "LayoutModel",
      "state": {
       "margin": "0px 0px 10px 0px"
      }
     },
     "8c6d8a4887f4411ea97e607f05b4cbfd": {
      "model_module": "@jupyter-widgets/base",
      "model_module_version": "1.2.0",
      "model_name": "LayoutModel",
      "state": {
       "grid_area": "right",
       "padding": "0px 0px 0px 0px",
       "width": "70px"
      }
     },
     "8f67a684422b40f9a9d22d94247f49a4": {
      "model_module": "@jupyter-widgets/controls",
      "model_module_version": "1.5.0",
      "model_name": "ButtonStyleModel",
      "state": {}
     },
     "91e9172fa41e434eb8d462125a691794": {
      "model_module": "@jupyter-widgets/controls",
      "model_module_version": "1.5.0",
      "model_name": "DescriptionStyleModel",
      "state": {
       "description_width": ""
      }
     },
     "a2929f908d6b440d839230697dafbd24": {
      "model_module": "@jupyter-widgets/controls",
      "model_module_version": "1.5.0",
      "model_name": "HTMLModel",
      "state": {
       "layout": "IPY_MODEL_1523353c89be4087801282d80da634b3",
       "style": "IPY_MODEL_91e9172fa41e434eb8d462125a691794",
       "value": "<h5>Status</h5>"
      }
     },
     "a3e02c9990404934ae2a62c7fb7abb06": {
      "model_module": "@jupyter-widgets/controls",
      "model_module_version": "1.5.0",
      "model_name": "ButtonModel",
      "state": {
       "button_style": "primary",
       "description": "Clear",
       "layout": "IPY_MODEL_8c6d8a4887f4411ea97e607f05b4cbfd",
       "style": "IPY_MODEL_8f67a684422b40f9a9d22d94247f49a4"
      }
     },
     "ac6ecb47be0a4ef58621cb0669919e6d": {
      "model_module": "@jupyter-widgets/controls",
      "model_module_version": "1.5.0",
      "model_name": "HTMLModel",
      "state": {
       "layout": "IPY_MODEL_c225bcb680554c388497e382d3195f6f",
       "style": "IPY_MODEL_f4602a72a57746dd855e68dfa2da0d40",
       "value": "<h5>Backend</h5>"
      }
     },
     "b3128b48b45943c98f0105a379613e0d": {
      "model_module": "@jupyter-widgets/controls",
      "model_module_version": "1.5.0",
      "model_name": "DescriptionStyleModel",
      "state": {
       "description_width": ""
      }
     },
     "c225bcb680554c388497e382d3195f6f": {
      "model_module": "@jupyter-widgets/base",
      "model_module_version": "1.2.0",
      "model_name": "LayoutModel",
      "state": {
       "width": "145px"
      }
     },
     "c6eb4fd15ed443ac9fb5ab1df5d66eda": {
      "model_module": "@jupyter-widgets/controls",
      "model_module_version": "1.5.0",
      "model_name": "HTMLModel",
      "state": {
       "layout": "IPY_MODEL_10a1ec17556a4f7d9e10eb97c73473d2",
       "style": "IPY_MODEL_ca6a7ee5573c4e2a9a3f1619f0889840",
       "value": "<h5>Message</h5>"
      }
     },
     "ca6a7ee5573c4e2a9a3f1619f0889840": {
      "model_module": "@jupyter-widgets/controls",
      "model_module_version": "1.5.0",
      "model_name": "DescriptionStyleModel",
      "state": {
       "description_width": ""
      }
     },
     "cb5960e9ac314245aa2d8f9de9d0ad56": {
      "model_module": "@jupyter-widgets/controls",
      "model_module_version": "1.5.0",
      "model_name": "DescriptionStyleModel",
      "state": {
       "description_width": ""
      }
     },
     "e27c1936d3f0430eb2e05cfc26c59f6d": {
      "model_module": "@jupyter-widgets/controls",
      "model_module_version": "1.5.0",
      "model_name": "GridBoxModel",
      "state": {
       "children": [
        "IPY_MODEL_a3e02c9990404934ae2a62c7fb7abb06"
       ],
       "layout": "IPY_MODEL_67f202ea759e4d9e9013a5773ece924f"
      }
     },
     "e586ee6d1f494d99a1382315f204bcec": {
      "model_module": "@jupyter-widgets/base",
      "model_module_version": "1.2.0",
      "model_name": "LayoutModel",
      "state": {
       "width": "70px"
      }
     },
     "f4602a72a57746dd855e68dfa2da0d40": {
      "model_module": "@jupyter-widgets/controls",
      "model_module_version": "1.5.0",
      "model_name": "DescriptionStyleModel",
      "state": {
       "description_width": ""
      }
     },
     "f99266f2c57e467aa9ea3bb59ff493d0": {
      "model_module": "@jupyter-widgets/base",
      "model_module_version": "1.2.0",
      "model_name": "LayoutModel",
      "state": {
       "margin": "0px 0px 0px 37px",
       "width": "600px"
      }
     }
    },
    "version_major": 2,
    "version_minor": 0
   }
  }
 },
 "nbformat": 4,
 "nbformat_minor": 5
}
